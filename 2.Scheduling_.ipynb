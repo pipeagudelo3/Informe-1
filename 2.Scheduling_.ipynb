{
 "cells": [
  {
   "cell_type": "code",
   "execution_count": null,
   "id": "3778f41d",
   "metadata": {},
   "outputs": [],
   "source": [
    "import random\n",
    "from collections import defaultdict\n",
    "\n",
    "# Definición de trabajos y sus operaciones: (máquina, duración)\n",
    "jobs = {\n",
    "    'J1': [('M1', 3), ('M2', 2), ('M3', 2)],\n",
    "    'J2': [('M2', 2), ('M1', 4), ('M3', 3)],\n",
    "    'J3': [('M3', 3), ('M2', 3), ('M1', 2)],\n",
    "    'J4': [('M1', 2), ('M3', 1), ('M2', 4)],\n",
    "    'J5': [('M2', 4), ('M3', 3), ('M1', 3)],\n",
    "    'J6': [('M3', 2), ('M1', 3), ('M2', 2), ('M3', 1)] \n",
    "}\n",
    "\n",
    "machines = ['M1', 'M2', 'M3']\n",
    "\n",
    "# Lista total de operaciones codificadas como (job_id, operation_index)\n",
    "all_operations = []\n",
    "for job, ops in jobs.items():\n",
    "    for idx in range(len(ops)):\n",
    "        all_operations.append((job, idx))\n"
   ]
  },
  {
   "cell_type": "markdown",
   "id": "1c5a22b0",
   "metadata": {},
   "source": [
    "## Construir cronograma y calcular tiempo de ejecución (makespan)"
   ]
  },
  {
   "cell_type": "code",
   "execution_count": 9,
   "id": "2594b6e8",
   "metadata": {},
   "outputs": [],
   "source": [
    "def build_schedule(individual):\n",
    "    job_ready_time = defaultdict(int)\n",
    "    machine_ready_time = defaultdict(int)\n",
    "    schedule = {}\n",
    "\n",
    "    for (job, op_idx) in individual:\n",
    "        machine, duration = jobs[job][op_idx]\n",
    "        start_time = max(job_ready_time[job], machine_ready_time[machine])\n",
    "        end_time = start_time + duration\n",
    "\n",
    "        schedule[(job, op_idx)] = (start_time, end_time)\n",
    "        job_ready_time[job] = end_time\n",
    "        machine_ready_time[machine] = end_time\n",
    "\n",
    "    return schedule\n",
    "\n",
    "def makespan(schedule):\n",
    "    return max(end for (_, end) in schedule.values())\n"
   ]
  },
  {
   "cell_type": "markdown",
   "id": "42acde1f",
   "metadata": {},
   "source": [
    "## Generar individuos válidos"
   ]
  },
  {
   "cell_type": "code",
   "execution_count": 10,
   "id": "9c4be0a3",
   "metadata": {},
   "outputs": [],
   "source": [
    "def generate_individual():\n",
    "    job_counters = {job: 0 for job in jobs}\n",
    "    ops = []\n",
    "    pending = []\n",
    "\n",
    "    # Añadir una operación inicial de cada trabajo\n",
    "    for job in jobs:\n",
    "        pending.append((job, 0))\n",
    "\n",
    "    while pending:\n",
    "        op = random.choice(pending)\n",
    "        ops.append(op)\n",
    "        job, idx = op\n",
    "        pending.remove(op)\n",
    "        if idx + 1 < len(jobs[job]):\n",
    "            pending.append((job, idx + 1))\n",
    "    return ops\n",
    "\n",
    "def create_population(size=10):\n",
    "    return [generate_individual() for _ in range(size)]\n"
   ]
  },
  {
   "cell_type": "markdown",
   "id": "fa9823d2",
   "metadata": {},
   "source": [
    "## Fitness y operadores genéticos"
   ]
  },
  {
   "cell_type": "code",
   "execution_count": 11,
   "id": "7e7fc175",
   "metadata": {},
   "outputs": [],
   "source": [
    "def fitness(individual):\n",
    "    schedule = build_schedule(individual)\n",
    "    return -makespan(schedule)  # Negativo porque el GA maximiza\n",
    "\n",
    "def selection(population):\n",
    "    a, b = random.sample(population, 2)\n",
    "    return a if fitness(a) > fitness(b) else b\n",
    "\n",
    "def crossover(p1, p2):\n",
    "    size = len(p1)\n",
    "    cut1, cut2 = sorted(random.sample(range(size), 2))\n",
    "    middle = p1[cut1:cut2]\n",
    "    remaining = [op for op in p2 if op not in middle]\n",
    "    child = remaining[:cut1] + middle + remaining[cut1:]\n",
    "    return child\n",
    "\n",
    "def mutate(ind, prob=0.2):\n",
    "    if random.random() < prob:\n",
    "        i, j = random.sample(range(len(ind)), 2)\n",
    "        ind[i], ind[j] = ind[j], ind[i]\n",
    "    return ind\n"
   ]
  },
  {
   "cell_type": "markdown",
   "id": "1a8baa21",
   "metadata": {},
   "source": [
    "## Ciclo evolutivo"
   ]
  },
  {
   "cell_type": "code",
   "execution_count": 12,
   "id": "71f7b4a1",
   "metadata": {},
   "outputs": [
    {
     "name": "stdout",
     "output_type": "stream",
     "text": [
      "Gen  1 | Makespan: 18\n",
      "Gen  2 | Makespan: 15\n",
      "Gen  3 | Makespan: 15\n",
      "Gen  4 | Makespan: 16\n",
      "Gen  5 | Makespan: 16\n",
      "Gen  6 | Makespan: 16\n",
      "Gen  7 | Makespan: 16\n",
      "Gen  8 | Makespan: 15\n",
      "Gen  9 | Makespan: 15\n",
      "Gen 10 | Makespan: 15\n",
      "Gen 11 | Makespan: 15\n",
      "Gen 12 | Makespan: 15\n",
      "Gen 13 | Makespan: 15\n",
      "Gen 14 | Makespan: 15\n",
      "Gen 15 | Makespan: 15\n",
      "Gen 16 | Makespan: 15\n",
      "Gen 17 | Makespan: 15\n",
      "Gen 18 | Makespan: 15\n",
      "Gen 19 | Makespan: 15\n",
      "Gen 20 | Makespan: 15\n",
      "Gen 21 | Makespan: 15\n",
      "Gen 22 | Makespan: 15\n",
      "Gen 23 | Makespan: 15\n",
      "Gen 24 | Makespan: 15\n",
      "Gen 25 | Makespan: 15\n",
      "Gen 26 | Makespan: 15\n",
      "Gen 27 | Makespan: 15\n",
      "Gen 28 | Makespan: 15\n",
      "Gen 29 | Makespan: 15\n",
      "Gen 30 | Makespan: 15\n"
     ]
    }
   ],
   "source": [
    "def evolve(population, generations=30):\n",
    "    for gen in range(generations):\n",
    "        new_pop = []\n",
    "        for _ in range(len(population)):\n",
    "            p1 = selection(population)\n",
    "            p2 = selection(population)\n",
    "            child = crossover(p1, p2)\n",
    "            child = mutate(child)\n",
    "            new_pop.append(child)\n",
    "        population = new_pop\n",
    "        best = max(population, key=fitness)\n",
    "        print(f\"Gen {gen+1:2d} | Makespan: {-fitness(best)}\")\n",
    "    return best\n",
    "\n",
    "# Ejecutar\n",
    "population = create_population(10)\n",
    "best_solution = evolve(population)\n"
   ]
  },
  {
   "cell_type": "markdown",
   "id": "4aed869a",
   "metadata": {},
   "source": [
    "## Visualización de la mejor solución"
   ]
  },
  {
   "cell_type": "code",
   "execution_count": 13,
   "id": "961ebd0a",
   "metadata": {},
   "outputs": [
    {
     "name": "stdout",
     "output_type": "stream",
     "text": [
      "\n",
      " Mejor programación encontrada:\n",
      "J4 Op1 en M1: 0 → 2\n",
      "J3 Op1 en M3: 0 → 3\n",
      "J2 Op1 en M2: 0 → 2\n",
      "J5 Op1 en M2: 2 → 6\n",
      "J3 Op3 en M1: 3 → 5\n",
      "J1 Op3 en M3: 3 → 5\n",
      "J2 Op3 en M3: 5 → 8\n",
      "J1 Op1 en M1: 5 → 8\n",
      "J3 Op2 en M2: 6 → 9\n",
      "J4 Op2 en M3: 8 → 9\n",
      "J2 Op2 en M1: 8 → 12\n",
      "J1 Op2 en M2: 9 → 11\n",
      "J5 Op2 en M3: 9 → 12\n",
      "J4 Op3 en M2: 11 → 15\n",
      "J5 Op3 en M1: 12 → 15\n",
      "\n",
      "🕒 Makespan total: 15\n"
     ]
    }
   ],
   "source": [
    "print(\"\\n Mejor programación encontrada:\")\n",
    "schedule = build_schedule(best_solution)\n",
    "for op, (start, end) in sorted(schedule.items(), key=lambda x: x[1][0]):\n",
    "    job, idx = op\n",
    "    machine = jobs[job][idx][0]\n",
    "    print(f\"{job} Op{idx+1} en {machine}: {start} → {end}\")\n",
    "\n",
    "print(f\"\\n🕒 Makespan total: {makespan(schedule)}\")\n"
   ]
  },
  {
   "cell_type": "code",
   "execution_count": 14,
   "id": "2778b8b8",
   "metadata": {},
   "outputs": [
    {
     "data": {
      "image/png": "[encoded data removed]",
      "text/plain": [
       "<Figure size 1000x500 with 1 Axes>"
      ]
     },
     "metadata": {},
     "output_type": "display_data"
    }
   ],
   "source": [
    "import matplotlib.pyplot as plt\n",
    "import matplotlib.patches as mpatches\n",
    "\n",
    "def plot_gantt(schedule):\n",
    "    fig, ax = plt.subplots(figsize=(10, 5))\n",
    "    colors = plt.cm.tab20.colors\n",
    "    machine_y = {'M1': 3, 'M2': 2, 'M3': 1}\n",
    "    \n",
    "    for i, ((job, op_idx), (start, end)) in enumerate(schedule.items()):\n",
    "        machine, duration = jobs[job][op_idx]\n",
    "        y = machine_y[machine]\n",
    "        color = colors[hash(job) % len(colors)]\n",
    "        \n",
    "        ax.barh(y, end - start, left=start, height=0.5, color=color, edgecolor='black')\n",
    "        ax.text(start + 0.2, y, f'{job}-Op{op_idx+1}', va='center', ha='left', color='black', fontsize=8)\n",
    "    \n",
    "    ax.set_yticks([1, 2, 3])\n",
    "    ax.set_yticklabels(['M3', 'M2', 'M1'])\n",
    "    ax.set_xlabel('Tiempo')\n",
    "    ax.set_title('Diagrama de Gantt de la programación')\n",
    "    ax.grid(True, axis='x', linestyle='--', alpha=0.7)\n",
    "    plt.tight_layout()\n",
    "    plt.show()\n",
    "\n",
    "# Mostrar Gantt\n",
    "plot_gantt(schedule)\n"
   ]
  }
 ],
 "metadata": {
  "kernelspec": {
   "display_name": "venv",
   "language": "python",
   "name": "venv"
  },
  "language_info": {
   "codemirror_mode": {
    "name": "ipython",
    "version": 3
   },
   "file_extension": ".py",
   "mimetype": "text/x-python",
   "name": "python",
   "nbconvert_exporter": "python",
   "pygments_lexer": "ipython3",
   "version": "3.13.6"
  }
 },
 "nbformat": 4,
 "nbformat_minor": 5
}
