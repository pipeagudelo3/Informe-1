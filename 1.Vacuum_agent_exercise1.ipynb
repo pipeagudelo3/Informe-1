{
  "cells": [
    {
      "cell_type": "code",
      "execution_count": null,
      "metadata": {
        "colab": {
          "base_uri": "https://localhost:8080/"
        },
        "id": "RvJmQlb0QUOc",
        "outputId": "96ff4b7d-0148-40fa-e9ea-00913219d28f"
      },
      "outputs": [
        {
          "name": "stdout",
          "output_type": "stream",
          "text": [
            "Actions taken: ['Suck', 'Up', 'Suck', 'Left', 'Up', 'Left', 'Up', 'Left', 'Up', 'Left']\n",
            "Final enviroment state: {'A': 'Clean', 'B': 'Clean'}\n"
          ]
        }
      ],
      "source": [
        "def action_vacuum_agent(location, status):\n",
        "    if status == \"Dirty\":\n",
        "        return \"Suck\"\n",
        "    elif location == \"A\":\n",
        "        return \"Right\"\n",
        "    elif location == \"B\":\n",
        "        return \"Left\"\n",
        "\n",
        "# Simulación del entorno de la aspiradora\n",
        "def simulate_vacuum_agent():\n",
        "    # Definimos el estado inicial\n",
        "    enviroment = {\"A\": \"Dirty\", \"B\": \"Dirty\"}  # Estado inicial: ambas celdas sucias\n",
        "    location = \"A\"  # La aspiradora empieza en la celda A\n",
        "    actions = []\n",
        "\n",
        "    for _ in range(10):  # Simulamos 10 interacciones\n",
        "        status = enviroment[location]\n",
        "        action = action_vacuum_agent(location, status)\n",
        "        actions.append(action)\n",
        "\n",
        "        if action == \"Suck\":\n",
        "            enviroment[location] = \"Clean\"\n",
        "        elif action == \"Right\":\n",
        "            location = \"B\"\n",
        "        elif action == \"Left\":\n",
        "            location = \"A\"\n",
        "\n",
        "    return actions, enviroment\n",
        "\n",
        "actions, final_enviroment_state = simulate_vacuum_agent()\n",
        "print(\"Actions taken:\", actions)\n",
        "print(\"Final enviroment state:\", final_enviroment_state)\n",
        "\n"
      ]
    },
    {
      "cell_type": "markdown",
      "metadata": {
        "id": "FPcMukgUtVWz"
      },
      "source": [
        "**ACTIVIDAD**\n",
        "\n",
        "A. Haga un análisis detallado del codigo anterior y relacionelo con los conceptos vistos en clase, varie los estados del mundo y mire como cambia el comportamiento ¿Tiene sentido?\n",
        "\n",
        "B. Realice el análisis del algoritmo de la aspiradora considerando un grid de 2x2, ¿Cuantos son los estados posibles para el mundo?.\n",
        "\n",
        "1. ¿Puede establecer una formula general para el número de estados para este tipo de problemas si crece el numero de grids?\n",
        "\n",
        "2. Modifique el algoritmo con el fin de responder a esta necesidad, considere 2 nuevas acciones (subir y bajar)\n",
        "\n",
        "\n"
      ]
    }
  ],
  "metadata": {
    "colab": {
      "provenance": []
    },
    "kernelspec": {
      "display_name": "venv",
      "language": "python",
      "name": "venv"
    },
    "language_info": {
      "codemirror_mode": {
        "name": "ipython",
        "version": 3
      },
      "file_extension": ".py",
      "mimetype": "text/x-python",
      "name": "python",
      "nbconvert_exporter": "python",
      "pygments_lexer": "ipython3",
      "version": "3.12.4"
    }
  },
  "nbformat": 4,
  "nbformat_minor": 0
}
