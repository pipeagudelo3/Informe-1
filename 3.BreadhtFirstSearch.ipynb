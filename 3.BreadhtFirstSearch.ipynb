{
  "cells": [
    {
      "cell_type": "markdown",
      "metadata": {
        "id": "fit7pBpFRjKI"
      },
      "source": [
        "**ALGORITMOS DE BUSQUEDA-BREATH-First Search**"
      ]
    },
    {
      "cell_type": "code",
      "execution_count": null,
      "metadata": {
        "id": "TpisO_kwo1q4"
      },
      "outputs": [],
      "source": [
        "from collections import deque #Implementación de colas\n",
        "#tenga en cuenta que el módulo heapq se usa para priorización de colas"
      ]
    },
    {
      "cell_type": "code",
      "execution_count": 13,
      "metadata": {
        "id": "IR8K7QnCpfjV"
      },
      "outputs": [],
      "source": [
        "class Node: #definición de clase node\n",
        "    def __init__(self, state, parent=None, action=None, path_cost=0):\n",
        "        self.state = state #El estado que define el nodo\n",
        "        self.parent = parent #El nodo padre de donde se origina el nodo actual\n",
        "        self.action = action #Action tomada desde el padre para llegar al nodo\n",
        "    ##En este caso el path_cost no es tan necesario debido a que todas las acciones tienen costo uniforme\n",
        "\n",
        "    def __lt__(self, other): #comparar dos objetos de clase node basado en el costo\n",
        "        return self.path_cost < other.path_cost"
      ]
    },
    {
      "cell_type": "code",
      "execution_count": 14,
      "metadata": {
        "id": "I4n7q2UKLG-l"
      },
      "outputs": [],
      "source": [
        "def expand(problem, node):\n",
        "    s = node.state #estado actual\n",
        "    for action in problem.actions(s): #[\"SIBOU\",\"ZERIND\", \"TIMISOURA\"]pasa por todas las acciones posibles en el estado actual\n",
        "        s_prime = problem.result(s, action) #Nuevo estado despues de aplicar la acción\n",
        "        yield Node(state=s_prime, parent=node, action=action) #conserva el valor y pausa la ejecución de la función,\n",
        "        #cuando se vuelva a invocar se reiniciará desde la declaración del yield"
      ]
    },
    {
      "cell_type": "code",
      "execution_count": null,
      "metadata": {
        "id": "PlP2QMWC0yra"
      },
      "outputs": [],
      "source": [
        "def breadth_first_search(problem):\n",
        "    # Completar con la búsqueda en amplitud\n",
        "\n",
        "    return None  #Se exploran todos los nodos posibles, y no se encuentra una solución solución"
      ]
    },
    {
      "cell_type": "code",
      "execution_count": 16,
      "metadata": {
        "id": "MW6-XPnPLK0G"
      },
      "outputs": [],
      "source": [
        "class Problem:\n",
        "    def __init__(self, initial, goal, actions, result, is_goal):\n",
        "        self.initial = initial #Estado inicial\n",
        "        self.goal = goal #Estado objetivo\n",
        "        self.actions = actions #acciones disponibles desde un estado.\n",
        "        self.result = result  #estado resultante de aplicar una acción\n",
        "        self.is_goal = is_goal #verificación de si el estado es el estado objetivo"
      ]
    },
    {
      "cell_type": "code",
      "execution_count": 17,
      "metadata": {
        "colab": {
          "base_uri": "https://localhost:8080/"
        },
        "id": "2kSU2IqOPWJX",
        "outputId": "27c8b561-bd63-4e4a-e83f-60fbd59a0b28"
      },
      "outputs": [
        {
          "name": "stdout",
          "output_type": "stream",
          "text": [
            "Solution path: ['Arad', 'Sibiu', 'Fagaras', 'Bucharest']\n"
          ]
        }
      ],
      "source": [
        "def problem_bucharest():\n",
        "    initial = 'Arad'\n",
        "    goal = 'Bucharest'\n",
        "\n",
        "    actions = {\n",
        "        'Arad': ['Sibiu', 'Timisoara', 'Zerind'],\n",
        "        'Sibiu': ['Arad', 'Fagaras', 'Rimnicu Vilcea'],\n",
        "        'Timisoara': ['Arad', 'Lugoj'],\n",
        "        'Zerind': ['Arad', 'Oradea'],\n",
        "        'Fagaras': ['Sibiu', 'Bucharest'],\n",
        "        'Rimnicu Vilcea': ['Sibiu', 'Pitesti', 'Craiova'],\n",
        "        'Lugoj': ['Timisoara', 'Mehadia'],\n",
        "        'Oradea': ['Zerind', 'Sibiu'],\n",
        "        'Pitesti': ['Rimnicu Vilcea', 'Bucharest'],\n",
        "        'Craiova': ['Rimnicu Vilcea', 'Drobeta', 'Pitesti'],\n",
        "        'Mehadia': ['Lugoj', 'Drobeta'],\n",
        "        'Drobeta': ['Mehadia', 'Craiova'],\n",
        "        'Bucharest': ['Fagaras', 'Pitesti', 'Urziceni', 'Giurgiu'],\n",
        "        'Giurgiu': ['Bucharest'],\n",
        "        'Urziceni': ['Bucharest', 'Hirsova', 'Vaslui'],\n",
        "        'Hirsova': ['Urziceni', 'Eforie'],\n",
        "        'Eforie': ['Hirsova'],\n",
        "        'Vaslui': ['Urziceni', 'Iasi'],\n",
        "        'Iasi': ['Vaslui', 'Neamt'],\n",
        "        'Neamt': ['Iasi']\n",
        "    }\n",
        "\n",
        "    def result(state, action):\n",
        "        return action\n",
        "    def is_goal(state):\n",
        "        return state == goal\n",
        "\n",
        "    problem = Problem(initial, goal, lambda s: actions.get(s, []), result, is_goal)\n",
        "\n",
        "    solution = breadth_first_search(problem)#Resultado del algoritmo breadth_first_search aplicado al problema definido.\n",
        "\n",
        "    if solution:\n",
        "        path = []\n",
        "        while solution:\n",
        "            path.append(solution.state)\n",
        "            solution = solution.parent\n",
        "        path.reverse()\n",
        "        print(\"Solution path:\", path)\n",
        "    else:\n",
        "        print(\"No solution found\")\n",
        "\n",
        "problem_bucharest()"
      ]
    },
    {
      "cell_type": "code",
      "execution_count": null,
      "metadata": {},
      "outputs": [],
      "source": []
    }
  ],
  "metadata": {
    "colab": {
      "provenance": []
    },
    "kernelspec": {
      "display_name": "Python 3",
      "name": "python3"
    },
    "language_info": {
      "codemirror_mode": {
        "name": "ipython",
        "version": 3
      },
      "file_extension": ".py",
      "mimetype": "text/x-python",
      "name": "python",
      "nbconvert_exporter": "python",
      "pygments_lexer": "ipython3",
      "version": "3.10.12"
    }
  },
  "nbformat": 4,
  "nbformat_minor": 0
}
