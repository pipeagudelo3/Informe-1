{
 "cells": [
  {
   "cell_type": "code",
   "execution_count": 13,
   "id": "3778f41d",
   "metadata": {},
   "outputs": [],
   "source": [
    "import random\n",
    "\n",
    "# --- Datos del problema ---\n",
    "tasks = ['A', 'B', 'C', 'D', 'E', 'F', 'G', 'H', 'I', 'J']\n",
    "precedence = {\n",
    "    'C': ['A'],\n",
    "    'D': ['A'],\n",
    "    'E': ['B'],\n",
    "    'F': ['C', 'D'],\n",
    "    'G': ['E', 'F'],\n",
    "    'H': ['G'],\n",
    "    'I': ['F'],\n",
    "    'J': ['H', 'I']\n",
    "}\n",
    "\n",
    "def is_valid(order):\n",
    "    position = {task: i for i, task in enumerate(order)}\n",
    "    for task, preds in precedence.items():\n",
    "        for pred in preds:\n",
    "            if position[pred] > position[task]:\n",
    "                return False\n",
    "    return True\n",
    "\n",
    "def fitness(order):\n",
    "    position = {task: i for i, task in enumerate(order)}\n",
    "    score = 100\n",
    "    for task, preds in precedence.items():\n",
    "        for pred in preds:\n",
    "            if position[pred] > position[task]:\n",
    "                score -= 30\n",
    "            else:\n",
    "                # Penalizar distancia grande entre pred y task\n",
    "                score -= (position[task] - position[pred] - 1) * 2\n",
    "    return score\n"
   ]
  },
  {
   "cell_type": "markdown",
   "id": "c8e6923b",
   "metadata": {},
   "source": [
    "## Generar población"
   ]
  },
  {
   "cell_type": "code",
   "execution_count": 14,
   "id": "a6bbef35",
   "metadata": {},
   "outputs": [
    {
     "name": "stdout",
     "output_type": "stream",
     "text": [
      "['G', 'B', 'A', 'F', 'I', 'D', 'J', 'C', 'E', 'H'] -> Fitness: -92\n",
      "['I', 'H', 'A', 'C', 'D', 'E', 'F', 'G', 'J', 'B'] -> Fitness: -26\n",
      "['G', 'I', 'E', 'C', 'A', 'B', 'D', 'F', 'H', 'J'] -> Fitness: -86\n",
      "['J', 'I', 'E', 'C', 'A', 'H', 'G', 'D', 'B', 'F'] -> Fitness: -132\n",
      "['C', 'H', 'G', 'B', 'E', 'F', 'A', 'I', 'D', 'J'] -> Fitness: -78\n",
      "['D', 'E', 'J', 'I', 'B', 'A', 'C', 'F', 'H', 'G'] -> Fitness: -108\n",
      "['A', 'B', 'H', 'I', 'D', 'J', 'G', 'F', 'C', 'E'] -> Fitness: -94\n",
      "['D', 'B', 'J', 'H', 'F', 'A', 'C', 'G', 'I', 'E'] -> Fitness: -110\n",
      "['E', 'G', 'B', 'H', 'C', 'I', 'A', 'F', 'D', 'J'] -> Fitness: -74\n",
      "['G', 'H', 'I', 'E', 'C', 'D', 'A', 'F', 'B', 'J'] -> Fitness: -112\n",
      "['G', 'B', 'E', 'D', 'C', 'J', 'A', 'F', 'H', 'I'] -> Fitness: -106\n",
      "['J', 'C', 'E', 'A', 'I', 'F', 'D', 'B', 'H', 'G'] -> Fitness: -138\n",
      "['H', 'C', 'F', 'B', 'G', 'I', 'E', 'J', 'A', 'D'] -> Fitness: -44\n",
      "['A', 'I', 'D', 'C', 'E', 'B', 'J', 'H', 'F', 'G'] -> Fitness: -60\n",
      "['G', 'D', 'F', 'B', 'C', 'A', 'J', 'E', 'H', 'I'] -> Fitness: -142\n",
      "['B', 'H', 'C', 'J', 'I', 'D', 'A', 'F', 'E', 'G'] -> Fitness: -78\n",
      "['D', 'I', 'J', 'E', 'C', 'G', 'H', 'F', 'B', 'A'] -> Fitness: -98\n",
      "['A', 'G', 'J', 'C', 'F', 'D', 'B', 'H', 'E', 'I'] -> Fitness: -82\n",
      "['B', 'I', 'A', 'H', 'F', 'D', 'J', 'G', 'C', 'E'] -> Fitness: -96\n",
      "['D', 'B', 'C', 'I', 'E', 'H', 'G', 'F', 'J', 'A'] -> Fitness: -88\n"
     ]
    }
   ],
   "source": [
    "def create_individual():\n",
    "    return random.sample(tasks, len(tasks))\n",
    "\n",
    "def create_population(size=20):\n",
    "    return [create_individual() for _ in range(size)]\n",
    "\n",
    "population = create_population()\n",
    "for ind in population:\n",
    "    print(ind, \"-> Fitness:\", fitness(ind))\n"
   ]
  },
  {
   "cell_type": "markdown",
   "id": "d4324e8d",
   "metadata": {},
   "source": [
    "## Operadores GA: selección, cruce, mutación"
   ]
  },
  {
   "cell_type": "code",
   "execution_count": 15,
   "id": "0def57a5",
   "metadata": {},
   "outputs": [],
   "source": [
    "def selection(pop):\n",
    "    a, b = random.sample(pop, 2)\n",
    "    return a if fitness(a) > fitness(b) else b\n",
    "\n",
    "def crossover(p1, p2):\n",
    "    size = len(p1)\n",
    "    start, end = sorted(random.sample(range(size), 2))\n",
    "    child = [None]*size\n",
    "    child[start:end] = p1[start:end]\n",
    "    fill = [x for x in p2 if x not in child]\n",
    "    idx = 0\n",
    "    for i in range(size):\n",
    "        if child[i] is None:\n",
    "            child[i] = fill[idx]\n",
    "            idx += 1\n",
    "    return child\n",
    "\n",
    "def mutate(ind, prob=0.2):\n",
    "    if random.random() < prob:\n",
    "        i, j = random.sample(range(len(ind)), 2)\n",
    "        ind[i], ind[j] = ind[j], ind[i]\n",
    "    return ind\n"
   ]
  },
  {
   "cell_type": "markdown",
   "id": "169df4d5",
   "metadata": {},
   "source": [
    "## Evolución"
   ]
  },
  {
   "cell_type": "code",
   "execution_count": 16,
   "id": "edbabe07",
   "metadata": {},
   "outputs": [
    {
     "name": "stdout",
     "output_type": "stream",
     "text": [
      "Gen  1: ['B', 'A', 'I', 'C', 'D', 'E', 'F', 'G', 'H', 'J'] | Fitness: 36 | Válido: False\n",
      "Gen  2: ['B', 'I', 'A', 'C', 'D', 'E', 'F', 'G', 'H', 'J'] | Fitness: 38 | Válido: False\n",
      "Gen  3: ['B', 'A', 'H', 'I', 'C', 'D', 'J', 'F', 'E', 'G'] | Fitness: -2 | Válido: False\n",
      "Gen  4: ['I', 'A', 'C', 'B', 'E', 'D', 'F', 'H', 'J', 'G'] | Fitness: 2 | Válido: False\n",
      "Gen  5: ['A', 'D', 'H', 'J', 'C', 'F', 'I', 'B', 'E', 'G'] | Fitness: 22 | Válido: False\n",
      "Gen  6: ['H', 'A', 'D', 'J', 'C', 'F', 'I', 'B', 'E', 'G'] | Fitness: 22 | Válido: False\n",
      "Gen  7: ['A', 'B', 'D', 'E', 'C', 'F', 'I', 'H', 'J', 'G'] | Fitness: 38 | Válido: False\n",
      "Gen  8: ['A', 'D', 'C', 'B', 'E', 'H', 'F', 'I', 'J', 'G'] | Fitness: 38 | Válido: False\n",
      "Gen  9: ['A', 'D', 'C', 'B', 'E', 'H', 'F', 'I', 'J', 'G'] | Fitness: 38 | Válido: False\n",
      "Gen 10: ['A', 'B', 'D', 'E', 'C', 'H', 'F', 'I', 'J', 'G'] | Fitness: 34 | Válido: False\n",
      "Gen 11: ['A', 'D', 'H', 'B', 'C', 'F', 'I', 'J', 'E', 'G'] | Fitness: 36 | Válido: False\n",
      "Gen 12: ['A', 'H', 'B', 'D', 'C', 'F', 'I', 'J', 'E', 'G'] | Fitness: 32 | Válido: False\n",
      "Gen 13: ['A', 'H', 'C', 'D', 'B', 'F', 'I', 'J', 'E', 'G'] | Fitness: 36 | Válido: False\n",
      "Gen 14: ['A', 'D', 'H', 'C', 'F', 'B', 'I', 'J', 'E', 'G'] | Fitness: 40 | Válido: False\n",
      "Gen 15: ['A', 'D', 'H', 'C', 'F', 'B', 'I', 'J', 'E', 'G'] | Fitness: 40 | Válido: False\n",
      "Gen 16: ['A', 'D', 'H', 'C', 'F', 'B', 'I', 'J', 'E', 'G'] | Fitness: 40 | Válido: False\n",
      "Gen 17: ['A', 'D', 'H', 'C', 'F', 'B', 'I', 'J', 'E', 'G'] | Fitness: 40 | Válido: False\n",
      "Gen 18: ['A', 'H', 'D', 'C', 'F', 'I', 'J', 'B', 'E', 'G'] | Fitness: 46 | Válido: False\n",
      "Gen 19: ['A', 'D', 'H', 'C', 'B', 'F', 'I', 'J', 'E', 'G'] | Fitness: 38 | Válido: False\n",
      "Gen 20: ['A', 'D', 'H', 'C', 'F', 'B', 'I', 'J', 'E', 'G'] | Fitness: 40 | Válido: False\n",
      "Gen 21: ['A', 'H', 'C', 'D', 'F', 'B', 'I', 'J', 'E', 'G'] | Fitness: 38 | Válido: False\n",
      "Gen 22: ['A', 'D', 'H', 'C', 'B', 'F', 'I', 'J', 'E', 'G'] | Fitness: 38 | Válido: False\n",
      "Gen 23: ['A', 'D', 'C', 'H', 'F', 'B', 'I', 'J', 'E', 'G'] | Fitness: 42 | Válido: False\n",
      "Gen 24: ['A', 'D', 'C', 'H', 'F', 'B', 'I', 'J', 'E', 'G'] | Fitness: 42 | Válido: False\n",
      "Gen 25: ['A', 'D', 'C', 'F', 'B', 'I', 'H', 'J', 'E', 'G'] | Fitness: 46 | Válido: False\n",
      "Gen 26: ['A', 'D', 'C', 'F', 'I', 'H', 'B', 'J', 'E', 'G'] | Fitness: 48 | Válido: False\n",
      "Gen 27: ['A', 'D', 'C', 'F', 'I', 'H', 'B', 'J', 'E', 'G'] | Fitness: 48 | Válido: False\n",
      "Gen 28: ['A', 'D', 'C', 'F', 'I', 'H', 'B', 'J', 'E', 'G'] | Fitness: 48 | Válido: False\n",
      "Gen 29: ['A', 'D', 'C', 'F', 'I', 'H', 'B', 'J', 'E', 'G'] | Fitness: 48 | Válido: False\n",
      "Gen 30: ['A', 'D', 'C', 'F', 'I', 'H', 'B', 'J', 'E', 'G'] | Fitness: 48 | Válido: False\n",
      "Gen 31: ['A', 'D', 'C', 'F', 'I', 'H', 'B', 'J', 'E', 'G'] | Fitness: 48 | Válido: False\n",
      "Gen 32: ['A', 'D', 'C', 'F', 'I', 'H', 'B', 'J', 'E', 'G'] | Fitness: 48 | Válido: False\n",
      "Gen 33: ['A', 'D', 'C', 'F', 'I', 'H', 'J', 'B', 'E', 'G'] | Fitness: 54 | Válido: False\n",
      "Gen 34: ['A', 'D', 'C', 'F', 'I', 'H', 'J', 'B', 'E', 'G'] | Fitness: 54 | Válido: False\n",
      "Gen 35: ['A', 'D', 'C', 'F', 'I', 'H', 'J', 'B', 'E', 'G'] | Fitness: 54 | Válido: False\n",
      "Gen 36: ['A', 'D', 'C', 'F', 'G', 'H', 'I', 'B', 'J', 'E'] | Fitness: 54 | Válido: False\n",
      "Gen 37: ['A', 'D', 'C', 'F', 'G', 'H', 'I', 'J', 'B', 'E'] | Fitness: 60 | Válido: False\n",
      "Gen 38: ['A', 'D', 'C', 'F', 'G', 'H', 'I', 'B', 'J', 'E'] | Fitness: 54 | Válido: False\n",
      "Gen 39: ['A', 'D', 'C', 'F', 'G', 'H', 'I', 'J', 'B', 'E'] | Fitness: 60 | Válido: False\n",
      "Gen 40: ['A', 'D', 'C', 'F', 'G', 'H', 'I', 'J', 'B', 'E'] | Fitness: 60 | Válido: False\n",
      "Gen 41: ['A', 'D', 'C', 'F', 'I', 'G', 'H', 'B', 'J', 'E'] | Fitness: 54 | Válido: False\n",
      "Gen 42: ['A', 'D', 'C', 'F', 'G', 'H', 'I', 'B', 'J', 'E'] | Fitness: 54 | Válido: False\n",
      "Gen 43: ['A', 'D', 'C', 'F', 'G', 'H', 'I', 'B', 'J', 'E'] | Fitness: 54 | Válido: False\n",
      "Gen 44: ['A', 'D', 'C', 'F', 'G', 'H', 'I', 'B', 'J', 'E'] | Fitness: 54 | Válido: False\n",
      "Gen 45: ['A', 'D', 'C', 'F', 'I', 'G', 'H', 'B', 'J', 'E'] | Fitness: 54 | Válido: False\n",
      "Gen 46: ['A', 'D', 'C', 'F', 'G', 'H', 'I', 'B', 'J', 'E'] | Fitness: 54 | Válido: False\n",
      "Gen 47: ['A', 'D', 'C', 'F', 'G', 'H', 'I', 'B', 'J', 'E'] | Fitness: 54 | Válido: False\n",
      "Gen 48: ['A', 'D', 'C', 'F', 'I', 'G', 'H', 'B', 'J', 'E'] | Fitness: 54 | Válido: False\n",
      "Gen 49: ['A', 'D', 'C', 'F', 'I', 'G', 'H', 'B', 'J', 'E'] | Fitness: 54 | Válido: False\n",
      "Gen 50: ['A', 'D', 'C', 'F', 'G', 'I', 'H', 'B', 'J', 'E'] | Fitness: 54 | Válido: False\n",
      "\n",
      "Mejor solución encontrada: ['A', 'D', 'C', 'F', 'G', 'I', 'H', 'B', 'J', 'E']\n"
     ]
    }
   ],
   "source": [
    "def evolve(population, generations=50):\n",
    "    for gen in range(generations):\n",
    "        new_pop = []\n",
    "        for _ in range(len(population)):\n",
    "            p1 = selection(population)\n",
    "            p2 = selection(population)\n",
    "            child = crossover(p1, p2)\n",
    "            child = mutate(child)\n",
    "            new_pop.append(child)\n",
    "        population = new_pop\n",
    "        best = max(population, key=fitness)\n",
    "        print(f\"Gen {gen+1:2d}: {best} | Fitness: {fitness(best)} | Válido: {is_valid(best)}\")\n",
    "    return best\n",
    "\n",
    "best = evolve(population)\n",
    "print(\"\\nMejor solución encontrada:\", best)\n"
   ]
  }
 ],
 "metadata": {
  "kernelspec": {
   "display_name": "venv",
   "language": "python",
   "name": "venv"
  },
  "language_info": {
   "codemirror_mode": {
    "name": "ipython",
    "version": 3
   },
   "file_extension": ".py",
   "mimetype": "text/x-python",
   "name": "python",
   "nbconvert_exporter": "python",
   "pygments_lexer": "ipython3",
   "version": "3.13.6"
  }
 },
 "nbformat": 4,
 "nbformat_minor": 5
}
