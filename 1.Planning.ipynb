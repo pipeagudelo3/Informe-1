{
 "cells": [
  {
   "cell_type": "code",
   "execution_count": 9,
   "id": "3778f41d",
   "metadata": {},
   "outputs": [],
   "source": [
    "import random\n",
    "\n",
    "# --- Datos del problema ---\n",
    "tasks = ['A', 'B', 'C', 'D', 'E', 'F', 'G', 'H', 'I', 'J']\n",
    "precedence = {\n",
    "    'C': ['A'],\n",
    "    'D': ['A'],\n",
    "    'E': ['B'],\n",
    "    'F': ['C', 'D'],\n",
    "    'G': ['E', 'F'],\n",
    "    'H': ['G'],\n",
    "    'I': ['F'],\n",
    "    'J': ['H', 'I']\n",
    "}\n",
    "\n",
    "def is_valid(order):\n",
    "    position = {task: i for i, task in enumerate(order)}\n",
    "    for task, preds in precedence.items():\n",
    "        for pred in preds:\n",
    "            if position[pred] > position[task]:\n",
    "                return False\n",
    "    return True\n",
    "\n",
    "def fitness(order):\n",
    "    position = {task: i for i, task in enumerate(order)}\n",
    "    score = 100\n",
    "    for task, preds in precedence.items():\n",
    "        for pred in preds:\n",
    "            if position[pred] > position[task]:\n",
    "                score -= 30\n",
    "            else:\n",
    "                # Penalizar distancia grande entre pred y task\n",
    "                score -= (position[task] - position[pred] - 1) * 2\n",
    "    return score\n"
   ]
  },
  {
   "cell_type": "markdown",
   "id": "c8e6923b",
   "metadata": {},
   "source": [
    "## Generar población"
   ]
  },
  {
   "cell_type": "code",
   "execution_count": 10,
   "id": "a6bbef35",
   "metadata": {},
   "outputs": [
    {
     "name": "stdout",
     "output_type": "stream",
     "text": [
      "['A', 'E', 'G', 'I', 'J', 'D', 'H', 'C', 'B', 'F'] -> Fitness: -54\n",
      "['J', 'C', 'E', 'I', 'A', 'D', 'B', 'F', 'G', 'H'] -> Fitness: -72\n",
      "['F', 'G', 'D', 'I', 'A', 'E', 'J', 'H', 'B', 'C'] -> Fitness: -106\n",
      "['E', 'F', 'C', 'G', 'B', 'D', 'A', 'J', 'I', 'H'] -> Fitness: -138\n",
      "['E', 'F', 'D', 'H', 'G', 'B', 'A', 'J', 'C', 'I'] -> Fitness: -112\n",
      "['C', 'A', 'J', 'D', 'G', 'I', 'H', 'F', 'B', 'E'] -> Fitness: -102\n",
      "['H', 'C', 'G', 'J', 'A', 'I', 'B', 'E', 'D', 'F'] -> Fitness: -104\n",
      "['E', 'F', 'I', 'G', 'H', 'A', 'B', 'D', 'C', 'J'] -> Fitness: -22\n",
      "['J', 'E', 'I', 'H', 'C', 'D', 'G', 'F', 'A', 'B'] -> Fitness: -154\n",
      "['D', 'B', 'H', 'I', 'E', 'C', 'J', 'A', 'F', 'G'] -> Fitness: -60\n",
      "['D', 'H', 'B', 'C', 'A', 'F', 'J', 'E', 'G', 'I'] -> Fitness: -56\n",
      "['I', 'E', 'F', 'C', 'A', 'J', 'G', 'B', 'D', 'H'] -> Fitness: -112\n",
      "['J', 'A', 'H', 'E', 'B', 'D', 'I', 'C', 'F', 'G'] -> Fitness: -80\n",
      "['B', 'A', 'E', 'D', 'G', 'F', 'C', 'J', 'I', 'H'] -> Fitness: -48\n",
      "['F', 'A', 'D', 'E', 'B', 'J', 'H', 'G', 'C', 'I'] -> Fitness: -126\n",
      "['C', 'A', 'J', 'E', 'B', 'D', 'I', 'F', 'H', 'G'] -> Fitness: -112\n",
      "['E', 'I', 'J', 'D', 'G', 'B', 'H', 'A', 'F', 'C'] -> Fitness: -98\n",
      "['F', 'B', 'A', 'E', 'H', 'D', 'G', 'C', 'I', 'J'] -> Fitness: -40\n",
      "['C', 'J', 'A', 'I', 'E', 'F', 'D', 'B', 'G', 'H'] -> Fitness: -104\n",
      "['G', 'F', 'A', 'I', 'J', 'C', 'E', 'B', 'D', 'H'] -> Fitness: -112\n"
     ]
    }
   ],
   "source": [
    "def create_individual():\n",
    "    return random.sample(tasks, len(tasks))\n",
    "\n",
    "def create_population(size=20):\n",
    "    return [create_individual() for _ in range(size)]\n",
    "\n",
    "population = create_population()\n",
    "for ind in population:\n",
    "    print(ind, \"-> Fitness:\", fitness(ind))\n"
   ]
  },
  {
   "cell_type": "markdown",
   "id": "d4324e8d",
   "metadata": {},
   "source": [
    "## Operadores GA: selección, cruce, mutación"
   ]
  },
  {
   "cell_type": "code",
   "execution_count": 11,
   "id": "0def57a5",
   "metadata": {},
   "outputs": [],
   "source": [
    "def selection(pop):\n",
    "    a, b = random.sample(pop, 2)\n",
    "    return a if fitness(a) > fitness(b) else b\n",
    "\n",
    "def crossover(p1, p2):\n",
    "    size = len(p1)\n",
    "    start, end = sorted(random.sample(range(size), 2))\n",
    "    child = [None]*size\n",
    "    child[start:end] = p1[start:end]\n",
    "    fill = [x for x in p2 if x not in child]\n",
    "    idx = 0\n",
    "    for i in range(size):\n",
    "        if child[i] is None:\n",
    "            child[i] = fill[idx]\n",
    "            idx += 1\n",
    "    return child\n",
    "\n",
    "def mutate(ind, prob=0.2):\n",
    "    if random.random() < prob:\n",
    "        i, j = random.sample(range(len(ind)), 2)\n",
    "        ind[i], ind[j] = ind[j], ind[i]\n",
    "    return ind\n"
   ]
  },
  {
   "cell_type": "markdown",
   "id": "169df4d5",
   "metadata": {},
   "source": [
    "## Evolución"
   ]
  },
  {
   "cell_type": "code",
   "execution_count": 12,
   "id": "edbabe07",
   "metadata": {},
   "outputs": [
    {
     "name": "stdout",
     "output_type": "stream",
     "text": [
      "Gen  1: ['A', 'B', 'H', 'I', 'E', 'C', 'J', 'D', 'F', 'G'] | Fitness: -6 | Válido: False\n",
      "Gen  2: ['A', 'B', 'D', 'E', 'H', 'I', 'C', 'J', 'F', 'G'] | Fitness: -2 | Válido: False\n",
      "Gen  3: ['A', 'D', 'H', 'I', 'C', 'B', 'E', 'J', 'F', 'G'] | Fitness: -2 | Válido: False\n",
      "Gen  4: ['F', 'A', 'I', 'B', 'E', 'G', 'D', 'H', 'C', 'J'] | Fitness: -6 | Válido: False\n",
      "Gen  5: ['B', 'I', 'A', 'E', 'C', 'D', 'F', 'J', 'G', 'H'] | Fitness: 8 | Válido: False\n",
      "Gen  6: ['B', 'I', 'A', 'E', 'C', 'D', 'F', 'J', 'G', 'H'] | Fitness: 8 | Válido: False\n",
      "Gen  7: ['A', 'I', 'B', 'E', 'C', 'D', 'F', 'G', 'H', 'J'] | Fitness: 34 | Válido: False\n",
      "Gen  8: ['C', 'D', 'F', 'B', 'I', 'A', 'E', 'G', 'H', 'J'] | Fitness: 16 | Válido: False\n",
      "Gen  9: ['C', 'D', 'F', 'B', 'I', 'A', 'E', 'G', 'H', 'J'] | Fitness: 16 | Válido: False\n",
      "Gen 10: ['I', 'A', 'B', 'C', 'E', 'D', 'F', 'G', 'H', 'J'] | Fitness: 36 | Válido: False\n",
      "Gen 11: ['A', 'B', 'C', 'E', 'D', 'F', 'I', 'G', 'H', 'J'] | Fitness: 74 | Válido: True\n",
      "Gen 12: ['A', 'B', 'C', 'E', 'D', 'F', 'I', 'G', 'H', 'J'] | Fitness: 74 | Válido: True\n",
      "Gen 13: ['A', 'C', 'B', 'D', 'F', 'E', 'I', 'G', 'H', 'J'] | Fitness: 76 | Válido: True\n",
      "Gen 14: ['A', 'D', 'C', 'B', 'F', 'I', 'E', 'G', 'H', 'J'] | Fitness: 78 | Válido: True\n",
      "Gen 15: ['B', 'A', 'C', 'E', 'D', 'F', 'I', 'G', 'H', 'J'] | Fitness: 76 | Válido: True\n",
      "Gen 16: ['A', 'B', 'E', 'C', 'D', 'F', 'G', 'I', 'H', 'J'] | Fitness: 76 | Válido: True\n",
      "Gen 17: ['B', 'A', 'C', 'E', 'D', 'F', 'I', 'G', 'H', 'J'] | Fitness: 76 | Válido: True\n",
      "Gen 18: ['B', 'A', 'C', 'D', 'E', 'F', 'G', 'I', 'H', 'J'] | Fitness: 78 | Válido: True\n",
      "Gen 19: ['B', 'A', 'C', 'D', 'E', 'F', 'I', 'G', 'H', 'J'] | Fitness: 76 | Válido: True\n",
      "Gen 20: ['A', 'C', 'B', 'D', 'E', 'F', 'G', 'I', 'H', 'J'] | Fitness: 78 | Válido: True\n",
      "Gen 21: ['B', 'A', 'C', 'D', 'E', 'F', 'G', 'I', 'H', 'J'] | Fitness: 78 | Válido: True\n",
      "Gen 22: ['B', 'A', 'C', 'D', 'E', 'F', 'G', 'I', 'H', 'J'] | Fitness: 78 | Válido: True\n",
      "Gen 23: ['A', 'B', 'C', 'E', 'D', 'F', 'G', 'I', 'H', 'J'] | Fitness: 76 | Válido: True\n",
      "Gen 24: ['B', 'A', 'C', 'E', 'D', 'F', 'G', 'I', 'H', 'J'] | Fitness: 78 | Válido: True\n",
      "Gen 25: ['B', 'A', 'C', 'D', 'F', 'E', 'G', 'I', 'H', 'J'] | Fitness: 78 | Válido: True\n",
      "Gen 26: ['B', 'A', 'E', 'D', 'C', 'F', 'G', 'I', 'H', 'J'] | Fitness: 78 | Válido: True\n",
      "Gen 27: ['B', 'A', 'C', 'E', 'D', 'F', 'G', 'I', 'H', 'J'] | Fitness: 78 | Válido: True\n",
      "Gen 28: ['B', 'A', 'C', 'E', 'D', 'F', 'G', 'I', 'H', 'J'] | Fitness: 78 | Válido: True\n",
      "Gen 29: ['B', 'A', 'C', 'E', 'D', 'F', 'G', 'I', 'H', 'J'] | Fitness: 78 | Válido: True\n",
      "Gen 30: ['B', 'A', 'C', 'D', 'E', 'F', 'G', 'I', 'H', 'J'] | Fitness: 78 | Válido: True\n",
      "Gen 31: ['B', 'A', 'D', 'E', 'C', 'F', 'G', 'I', 'H', 'J'] | Fitness: 78 | Válido: True\n",
      "Gen 32: ['B', 'A', 'C', 'D', 'F', 'E', 'G', 'I', 'H', 'J'] | Fitness: 78 | Válido: True\n",
      "Gen 33: ['B', 'A', 'C', 'E', 'D', 'F', 'G', 'I', 'H', 'J'] | Fitness: 78 | Válido: True\n",
      "Gen 34: ['B', 'A', 'D', 'C', 'E', 'F', 'G', 'I', 'H', 'J'] | Fitness: 78 | Válido: True\n",
      "Gen 35: ['B', 'A', 'C', 'E', 'D', 'F', 'G', 'I', 'H', 'J'] | Fitness: 78 | Válido: True\n",
      "Gen 36: ['B', 'A', 'C', 'E', 'D', 'F', 'G', 'I', 'H', 'J'] | Fitness: 78 | Válido: True\n",
      "Gen 37: ['B', 'A', 'C', 'E', 'D', 'F', 'G', 'I', 'H', 'J'] | Fitness: 78 | Válido: True\n",
      "Gen 38: ['B', 'A', 'C', 'E', 'D', 'F', 'G', 'I', 'H', 'J'] | Fitness: 78 | Válido: True\n",
      "Gen 39: ['B', 'A', 'C', 'E', 'D', 'F', 'G', 'I', 'H', 'J'] | Fitness: 78 | Válido: True\n",
      "Gen 40: ['B', 'A', 'C', 'E', 'D', 'F', 'G', 'I', 'H', 'J'] | Fitness: 78 | Válido: True\n",
      "Gen 41: ['B', 'A', 'C', 'E', 'D', 'F', 'G', 'I', 'H', 'J'] | Fitness: 78 | Válido: True\n",
      "Gen 42: ['B', 'A', 'C', 'E', 'D', 'F', 'G', 'I', 'H', 'J'] | Fitness: 78 | Válido: True\n",
      "Gen 43: ['B', 'A', 'C', 'D', 'E', 'F', 'G', 'I', 'H', 'J'] | Fitness: 78 | Válido: True\n",
      "Gen 44: ['B', 'A', 'C', 'E', 'D', 'F', 'G', 'I', 'H', 'J'] | Fitness: 78 | Válido: True\n",
      "Gen 45: ['B', 'A', 'C', 'E', 'D', 'F', 'G', 'I', 'H', 'J'] | Fitness: 78 | Válido: True\n",
      "Gen 46: ['B', 'A', 'C', 'E', 'D', 'F', 'G', 'I', 'H', 'J'] | Fitness: 78 | Válido: True\n",
      "Gen 47: ['B', 'A', 'C', 'E', 'D', 'F', 'G', 'I', 'H', 'J'] | Fitness: 78 | Válido: True\n",
      "Gen 48: ['B', 'A', 'C', 'E', 'D', 'F', 'G', 'I', 'H', 'J'] | Fitness: 78 | Válido: True\n",
      "Gen 49: ['B', 'A', 'C', 'D', 'E', 'F', 'G', 'I', 'H', 'J'] | Fitness: 78 | Válido: True\n",
      "Gen 50: ['B', 'A', 'C', 'E', 'D', 'F', 'G', 'I', 'H', 'J'] | Fitness: 78 | Válido: True\n",
      "\n",
      "Mejor solución encontrada: ['B', 'A', 'C', 'E', 'D', 'F', 'G', 'I', 'H', 'J']\n"
     ]
    }
   ],
   "source": [
    "def evolve(population, generations=50):\n",
    "    for gen in range(generations):\n",
    "        new_pop = []\n",
    "        for _ in range(len(population)):\n",
    "            p1 = selection(population)\n",
    "            p2 = selection(population)\n",
    "            child = crossover(p1, p2)\n",
    "            child = mutate(child)\n",
    "            new_pop.append(child)\n",
    "        population = new_pop\n",
    "        best = max(population, key=fitness)\n",
    "        print(f\"Gen {gen+1:2d}: {best} | Fitness: {fitness(best)} | Válido: {is_valid(best)}\")\n",
    "    return best\n",
    "\n",
    "best = evolve(population)\n",
    "print(\"\\nMejor solución encontrada:\", best)\n"
   ]
  }
 ],
 "metadata": {
  "kernelspec": {
   "display_name": "venv",
   "language": "python",
   "name": "venv"
  },
  "language_info": {
   "codemirror_mode": {
    "name": "ipython",
    "version": 3
   },
   "file_extension": ".py",
   "mimetype": "text/x-python",
   "name": "python",
   "nbconvert_exporter": "python",
   "pygments_lexer": "ipython3",
   "version": "3.13.6"
  }
 },
 "nbformat": 4,
 "nbformat_minor": 5
}
