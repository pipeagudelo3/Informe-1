{
  "cells": [
    {
      "cell_type": "code",
      "execution_count": 66,
      "metadata": {
        "id": "xoZn6b-uZt8r"
      },
      "outputs": [],
      "source": [
        "import heapq #El módulo heapq implementa colas de prioridad (heaps)\n",
        "import math"
      ]
    },
    {
      "cell_type": "code",
      "execution_count": 67,
      "metadata": {
        "id": "4Rahk-56Z9jq"
      },
      "outputs": [],
      "source": [
        "class Node:\n",
        "    def __init__(self, position, parent=None, path_cost=0):\n",
        "        self.position = position\n",
        "        self.parent = parent\n",
        "        self.path_cost = path_cost\n",
        "\n",
        "    def __lt__(self, other):\n",
        "        return self.path_cost < other.path_cost\n",
        "\n",
        "class Problem:\n",
        "    def __init__(self, maze, start, goal):\n",
        "        self.maze = maze\n",
        "        self.start = start\n",
        "        self.goal = goal\n",
        "        self.moves = {\n",
        "            (-1, 0): \"Up\",\n",
        "            (1, 0): \"Down\",\n",
        "            (0, -1): \"Left\",\n",
        "            (0, 1): \"Right\"\n",
        "        }\n",
        "    def actions(self, state):\n",
        "        x, y = state\n",
        "        valid = []\n",
        "        for (dx, dy), name in self.moves.items():  # ✅ Usar self.moves\n",
        "            nx, ny = x + dx, y + dy\n",
        "            if self._in_bounds(nx, ny) and self.maze[nx][ny] != \"#\":\n",
        "                valid.append(((dx, dy), name))\n",
        "        return valid\n",
        "    def _in_bounds(self, x, y):\n",
        "        return 0 <= x < len(self.maze) and 0 <= y < len(self.maze[0])\n",
        "    def result(self, state, move):\n",
        "        return (state[0] + move[0], state[1] + move[1])"
      ]
    },
    {
      "cell_type": "code",
      "execution_count": 68,
      "metadata": {
        "id": "7B4dgvTgaBhf"
      },
      "outputs": [],
      "source": [
        "\n",
        "def result(self, state, move):\n",
        "        return (state[0] + move[0], state[1] + move[1])\n",
        "\n",
        "def _in_bounds(self, x, y):\n",
        "        return 0 <= x < len(self.maze) and 0 <= y < len(self.maze[0])\n",
        "\n",
        "def action_cost(state, move, next_state):\n",
        "    x, y = next_state\n",
        "    terrain = maze[x][y]\n",
        "    if terrain == \"~\":\n",
        "        return 5\n",
        "    elif terrain == \"#\":\n",
        "        return 3\n",
        "    else:\n",
        "        return 1\n",
        "\n",
        "def find_exit(maze):\n",
        "    start = (1, 1)\n",
        "    goal = (1, 6)\n",
        "    problem = Problem(maze, start, goal)\n",
        "\n",
        "    def manhattan_distance(pos, goal):\n",
        "        return abs(pos[0] - goal[0]) + abs(pos[1] - goal[1])\n",
        "\n",
        "    start_node = Node(start, path_cost=0)\n",
        "    frontier = [(manhattan_distance(start, goal), start_node)]\n",
        "    heapq.heapify(frontier)\n",
        "    reached = {start: start_node}\n",
        "\n",
        "    while frontier:\n",
        "        _, node = heapq.heappop(frontier)\n",
        "        if node.position == goal:\n",
        "            return reconstruct_path(node)\n",
        "\n",
        "        for (move, _) in problem.actions(node.position):\n",
        "            neighbor = problem.result(node.position, move)\n",
        "            cost = action_cost(node.position, move, neighbor)\n",
        "            new_cost = node.path_cost + cost\n",
        "\n",
        "            if neighbor not in reached or new_cost < reached[neighbor].path_cost:\n",
        "                reached[neighbor] = Node(neighbor, parent=node, path_cost=new_cost)\n",
        "                priority = new_cost + manhattan_distance(neighbor, goal)\n",
        "                heapq.heappush(frontier, (priority, reached[neighbor]))\n",
        "\n",
        "    return None"
      ]
    },
    {
      "cell_type": "code",
      "execution_count": 69,
      "metadata": {
        "id": "nr1f-OMmaPZy"
      },
      "outputs": [],
      "source": [
        "def reconstruct_path(node):\n",
        "    path = []\n",
        "    while node:\n",
        "        path.append(node.position)\n",
        "        node = node.parent\n",
        "    path.reverse()\n",
        "    return path\n"
      ]
    },
    {
      "cell_type": "code",
      "execution_count": 70,
      "metadata": {
        "id": "goDWZANwaRuK"
      },
      "outputs": [
        {
          "name": "stdout",
          "output_type": "stream",
          "text": [
            "Path to exit: [(1, 1), (1, 2), (2, 2), (3, 2), (3, 3), (3, 4), (3, 5), (2, 5), (1, 5), (1, 6)]\n"
          ]
        }
      ],
      "source": [
        "# ✅ Laberinto\n",
        "maze = [\n",
        "    [\"#\", \"#\", \"#\", \"#\", \"#\", \"#\", \"#\", \"#\", \"#\"],\n",
        "    [\"#\", \"S\", \" \", \"~\", \"#\", \" \", \" \", \"~\", \"#\"],\n",
        "    [\"#\", \"#\", \" \", \"#\", \"#\", \" \", \"#\", \" \", \"#\"],\n",
        "    [\"#\", \" \", \" \", \" \", \"~\", \" \", \"#\", \"E\", \"#\"],\n",
        "    [\"#\", \"#\", \"#\", \"#\", \"#\", \"#\", \"#\", \"#\", \"#\"]\n",
        "]\n",
        "\n",
        "# ✅ Ejecutar\n",
        "path = find_exit(maze)\n",
        "print(\"Path to exit:\", path)"
      ]
    }
  ],
  "metadata": {
    "colab": {
      "provenance": []
    },
    "kernelspec": {
      "display_name": "venv",
      "language": "python",
      "name": "venv"
    },
    "language_info": {
      "codemirror_mode": {
        "name": "ipython",
        "version": 3
      },
      "file_extension": ".py",
      "mimetype": "text/x-python",
      "name": "python",
      "nbconvert_exporter": "python",
      "pygments_lexer": "ipython3",
      "version": "3.13.6"
    }
  },
  "nbformat": 4,
  "nbformat_minor": 0
}
