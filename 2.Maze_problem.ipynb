{
  "cells": [
    {
      "cell_type": "code",
      "execution_count": 121,
      "metadata": {
        "id": "xoZn6b-uZt8r"
      },
      "outputs": [],
      "source": [
        "import heapq #El módulo heapq implementa colas de prioridad (heaps)\n",
        "import math"
      ]
    },
    {
      "cell_type": "code",
      "execution_count": 122,
      "metadata": {
        "id": "4Rahk-56Z9jq"
      },
      "outputs": [],
      "source": [
        "class Node:\n",
        "    def __init__(self, position, parent=None, path_cost=0):\n",
        "        self.position = position\n",
        "        self.parent = parent\n",
        "        self.path_cost = path_cost\n",
        "\n",
        "    def __lt__(self, other):\n",
        "        return self.path_cost < other.path_cost\n",
        "\n",
        "class Problem:\n",
        "    def __init__(self, maze, start, goal):\n",
        "        self.maze = maze\n",
        "        self.start = start\n",
        "        self.goal = goal\n",
        "        self.moves = {\n",
        "            (-1, 0): \"Up\",\n",
        "            (1, 0): \"Down\",\n",
        "            (0, -1): \"Left\",\n",
        "            (0, 1): \"Right\"\n",
        "        }\n",
        "    def actions(self, state):\n",
        "        x, y = state\n",
        "        valid = []\n",
        "        for (dx, dy), name in self.moves.items():  # ✅ Usar self.moves\n",
        "            nx, ny = x + dx, y + dy\n",
        "            if self._in_bounds(nx, ny) and self.maze[nx][ny] != \"#\":\n",
        "                valid.append(((dx, dy), name))\n",
        "        return valid\n",
        "    def _in_bounds(self, x, y):\n",
        "        return 0 <= x < len(self.maze) and 0 <= y < len(self.maze[0])\n",
        "    def result(self, state, move):\n",
        "        return (state[0] + move[0], state[1] + move[1])"
      ]
    },
    {
      "cell_type": "code",
      "execution_count": 123,
      "metadata": {
        "id": "7B4dgvTgaBhf"
      },
      "outputs": [],
      "source": [
        "\n",
        "def result(self, state, move):\n",
        "        return (state[0] + move[0], state[1] + move[1])\n",
        "\n",
        "def _in_bounds(self, x, y):\n",
        "        return 0 <= x < len(self.maze) and 0 <= y < len(self.maze[0])\n",
        "\n",
        "def action_cost(state, move, next_state):\n",
        "    x, y = next_state\n",
        "    terrain = maze[x][y]\n",
        "    if terrain == \"~\":\n",
        "        return 3  # Barro\n",
        "    elif terrain == \"^\":\n",
        "        return 5  # Fuego\n",
        "    elif terrain == \"#\":\n",
        "        return float('inf')  # Pared (intransitable)\n",
        "    else:\n",
        "        return 1  # Camino normal\n",
        "\n",
        "def find_exit(maze):\n",
        "    start = (1, 1)\n",
        "    goal = (1, 18)\n",
        "    problem = Problem(maze, start, goal)\n",
        "\n",
        "    def manhattan_distance(pos, goal):\n",
        "        return abs(pos[0] - goal[0]) + abs(pos[1] - goal[1])\n",
        "\n",
        "    start_node = Node(start, path_cost=0)\n",
        "    frontier = [(manhattan_distance(start, goal), start_node)]\n",
        "    heapq.heapify(frontier)\n",
        "    reached = {start: start_node}\n",
        "\n",
        "    while frontier:\n",
        "        _, node = heapq.heappop(frontier)\n",
        "        if node.position == goal:\n",
        "            return reconstruct_path(node)\n",
        "\n",
        "        for (move, _) in problem.actions(node.position):\n",
        "            neighbor = problem.result(node.position, move)\n",
        "            cost = action_cost(node.position, move, neighbor)\n",
        "            new_cost = node.path_cost + cost\n",
        "\n",
        "            if neighbor not in reached or new_cost < reached[neighbor].path_cost:\n",
        "                reached[neighbor] = Node(neighbor, parent=node, path_cost=new_cost)\n",
        "                priority = new_cost + manhattan_distance(neighbor, goal)\n",
        "                heapq.heappush(frontier, (priority, reached[neighbor]))\n",
        "\n",
        "    return None"
      ]
    },
    {
      "cell_type": "code",
      "execution_count": 124,
      "metadata": {
        "id": "nr1f-OMmaPZy"
      },
      "outputs": [],
      "source": [
        "def reconstruct_path(node):\n",
        "    path = []\n",
        "    while node:\n",
        "        path.append(node.position)\n",
        "        node = node.parent\n",
        "    path.reverse()\n",
        "    return path\n",
        "def calculate_total_cost(path, maze):\n",
        "    total = 0\n",
        "    for i in range(len(path) - 1):\n",
        "        current = path[i]\n",
        "        next_pos = path[i + 1]\n",
        "        move = (next_pos[0] - current[0], next_pos[1] - current[1])\n",
        "        cost = action_cost(current, move, next_pos)\n",
        "        total += cost\n",
        "    return total\n",
        "\n"
      ]
    },
    {
      "cell_type": "code",
      "execution_count": 125,
      "metadata": {
        "id": "goDWZANwaRuK"
      },
      "outputs": [
        {
          "name": "stdout",
          "output_type": "stream",
          "text": [
            "Path to exit: [(1, 1), (1, 2), (1, 3), (1, 4), (1, 5), (1, 6), (1, 7), (1, 8), (1, 9), (1, 10), (1, 11), (1, 12), (1, 13), (1, 14), (1, 15), (1, 16), (1, 17), (1, 18)]\n",
            "Total cost of path: 19\n"
          ]
        }
      ],
      "source": [
        "# ✅ maze\n",
        "maze = [\n",
        "    ['#', '#', '#', '#', '#', '#', '#', '#', '#', '#', '#', '#', '#', '#', '#', '#', '#', '#', '#', '#'],\n",
        "    ['#', 'S', '.', '.', '.', '~', '.', '.', '.', '.', '.', '.', '.', '.', '.', '.', '.', '.', 'E', '#'],\n",
        "    ['#', '#', '#', '#', '.', '#', '#', '#', '#', '.', '#', '#', '#', '#', '#', '#', '#', '.', '#', '#'],\n",
        "    ['#', '.', '.', '.', '.', '.', '.', '.', '.', '.', '.', '.', '.', '.', '.', '.', '.', '.', '.', '#'],\n",
        "    ['#', '.', '#', '#', '#', '#', '#', '#', '#', '#', '#', '#', '#', '#', '#', '#', '#', '#', '.', '#'],\n",
        "    ['#', '.', '.', '.', '.', '.', '.', '.', '.', '.', '.', '.', '.', '.', '.', '.', '.', '.', '.', '#'],\n",
        "    ['#', '#', '#', '#', '#', '#', '#', '#', '#', '#', '#', '#', '#', '#', '#', '#', '#', '#', '#', '#'],\n",
        "    ['#', '.', '.', '.', '.', '.', '.', '.', '.', '.', '.', '.', '.', '.', '.', '.', '.', '.', '.', '#'],\n",
        "    ['#', '.', '#', '#', '#', '#', '#', '#', '#', '#', '#', '#', '#', '#', '#', '#', '#', '#', '.', '#'],\n",
        "    ['#', '.', '.', '.', '.', '.', '.', '.', '.', '.', '.', '.', '.', '.', '.', '.', '.', '.', '.', '#'],\n",
        "    ['#', '#', '#', '#', '#', '#', '#', '#', '#', '#', '#', '#', '#', '#', '#', '#', '#', '#', '#', '#'],\n",
        "    ['#', '.', '.', '.', '.', '.', '.', '.', '.', '.', '.', '.', '.', '.', '.', '.', '.', '.', '.', '#'],\n",
        "    ['#', '.', '#', '#', '#', '#', '#', '#', '#', '#', '#', '#', '#', '#', '#', '#', '#', '#', '.', '#'],\n",
        "    ['#', '.', '.', '.', '.', '.', '.', '.', '.', '.', '.', '.', '.', '.', '.', '.', '.', '.', '.', '#'],\n",
        "    ['#', '#', '#', '#', '#', '#', '#', '#', '#', '#', '#', '#', '#', '#', '#', '#', '#', '#', '#', '#']\n",
        "]\n",
        "\n",
        "\n",
        "# ✅ Ejecutar\n",
        "path = find_exit(maze)\n",
        "print(\"Path to exit:\", path)\n",
        "if path:\n",
        "    total_cost = calculate_total_cost(path, maze)\n",
        "    print(\"Total cost of path:\", total_cost)\n",
        "else:\n",
        "    print(\"No path found.\")\n"
      ]
    }
  ],
  "metadata": {
    "colab": {
      "provenance": []
    },
    "kernelspec": {
      "display_name": "venv",
      "language": "python",
      "name": "venv"
    },
    "language_info": {
      "codemirror_mode": {
        "name": "ipython",
        "version": 3
      },
      "file_extension": ".py",
      "mimetype": "text/x-python",
      "name": "python",
      "nbconvert_exporter": "python",
      "pygments_lexer": "ipython3",
      "version": "3.13.6"
    }
  },
  "nbformat": 4,
  "nbformat_minor": 0
}
