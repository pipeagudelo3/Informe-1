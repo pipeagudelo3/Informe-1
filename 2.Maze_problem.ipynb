{
  "cells": [
    {
      "cell_type": "code",
      "execution_count": null,
      "metadata": {
        "id": "xoZn6b-uZt8r"
      },
      "outputs": [],
      "source": [
        "import heapq #El módulo heapq implementa colas de prioridad (heaps)"
      ]
    },
    {
      "cell_type": "code",
      "execution_count": null,
      "metadata": {
        "id": "4Rahk-56Z9jq"
      },
      "outputs": [],
      "source": [
        "class Node:\n",
        "    def __init__(self, position, parent=None, path_cost=0): #AGREGAR ACTION\n",
        "        self.position = position\n",
        "        self.parent = parent\n",
        "        self.path_cost = path_cost\n",
        "\n",
        "    def __lt__(self, other):\n",
        "        return self.path_cost < other.path_cost\n",
        "\n",
        "class Problem:\n",
        "    def __init__(self, maze, start, goals):\n",
        "        self.maze = maze\n",
        "        self.start = start\n",
        "        # Permitir una o varias metas\n",
        "        self.goals = goals if isinstance(goals, list) else [goals]\n",
        "        # Movimientos ortogonales y su etiqueta\n",
        "        self._actions = {\n",
        "            (-1,  0): \"Up\",\n",
        "            ( 1,  0): \"Down\",\n",
        "            ( 0, -1): \"Left\",\n",
        "            ( 0,  1): \"Right\",\n",
        "        }"
      ]
    },
    {
      "cell_type": "code",
      "execution_count": null,
      "metadata": {
        "id": "7B4dgvTgaBhf"
      },
      "outputs": [],
      "source": [
        "def find_exit(maze):\n",
        "    start = (1, 1)  # Posición inicial basado en la documentación suministrada\n",
        "    end = (1, 6)    # Posición de la salida basado en la documentación suministrada\n",
        "\n",
        "    \n",
        "class Problem:\n",
        "    def __init__(self, maze, start, goals):\n",
        "        self.maze = maze\n",
        "        self.start = start\n",
        "        # Permitir una o varias metas\n",
        "        self.goals = goals if isinstance(goals, list) else [goals]\n",
        "        # Movimientos ortogonales y su etiqueta\n",
        "        self._actions = {\n",
        "            (-1,  0): \"Up\",\n",
        "            ( 1,  0): \"Down\",\n",
        "            ( 0, -1): \"Left\",\n",
        "            ( 0,  1): \"Right\",\n",
        "        }\n",
        "\n",
        "    def actions(self, state):\n",
        "        # Devuelve la lista de tuplas (move, action_name) válidas desde 'state'\n",
        "        x, y = state\n",
        "        valid = []\n",
        "        for (dx, dy), name in self._actions.items():\n",
        "            nx, ny = x + dx, y + dy\n",
        "            if self._in_bounds(nx, ny) and self.maze[nx][ny] != \"#\":\n",
        "                valid.append(((dx, dy), name))\n",
        "        return valid\n",
        "\n",
        "    def result(self, state, move):\n",
        "        # Aplica la acción 'move' al estado y devuelve el nuevo estado\n",
        "        return (state[0] + move[0], state[1] + move[1])\n",
        "\n",
        "    def action_cost(self, state, move, next_state):\n",
        "        # Costo uniforme de 1; más adelante podemos penalizar celdas especiales\n",
        "        return 1\n",
        "\n",
        "    def is_goal(self, state):\n",
        "        return state in self.goals\n",
        "\n",
        "    def _in_bounds(self, x, y):\n",
        "        # Verifica que (x,y) esté dentro del tamaño del laberinto\n",
        "        return 0 <= x < len(self.maze) and 0 <= y < len(self.maze[0])\n",
        "\n",
        "    problem=Problem()#COMPLETE LA DEFINICIÓN DEL OBJETO Y ADAPTELO EN LOS PUNTOS QUE LO REQUIERAN\n",
        "\n",
        "    def manhatan_distance(pos, goal):\n",
        "        return abs(pos[0] - goal[0]) + abs(pos[1] - goal[1])  # Distancia de Manhattan\n",
        "\n",
        "    def get_neighbors(pos):  #ESTA ES LA FUNCIÓN QUE DEBERIA AJUSTAR PARA HACER TRACKING DE LOS MOVIMIENTOS (Up, Down, Right, Left)\n",
        "        neighbors = [] #lista de vecinos\n",
        "        for move in [x for x in problem.actions.keys()]:  #Tenga en cuenta que para que esto sea funcional ya debio haber definido el objeto problem\n",
        "            neighbor = (pos[0] + move[0], pos[1] + move[1])\n",
        "            if maze[neighbor[0]][neighbor[1]] != \"#\": #si el vecino es diferente a \"#\" pared agregarlo a la lista de vecinos                neighbors.append(neighbor)\n",
        "              neighbors.append(neighbor)\n",
        "        return neighbors\n",
        "\n",
        "    start_node = Node(start, path_cost=0)\n",
        "    frontier = [(manhatan_distance(start, goal), start_node)]\n",
        "    heapq.heapify(frontier) #Convierte la lista frontier en una cola de prioridad (heap)\n",
        "    reached = {start: start_node}\n",
        "\n",
        "    while frontier:\n",
        "        _, node = heapq.heappop(frontier)\n",
        "        if node.position == goal:\n",
        "            return reconstruct_path(node)\n",
        "\n",
        "        for neighbor in get_neighbors(node.position):\n",
        "            new_cost = node.path_cost + 1\n",
        "            if neighbor not in reached or new_cost < reached[neighbor].path_cost:\n",
        "                reached[neighbor] = Node(neighbor, parent=node, path_cost=new_cost)\n",
        "                heapq.heappush(frontier, (manhatan_distance(neighbor, end), reached[neighbor]))\n",
        "\n",
        "    return None  # No se encontró salida"
      ]
    },
    {
      "cell_type": "code",
      "execution_count": null,
      "metadata": {
        "id": "nr1f-OMmaPZy"
      },
      "outputs": [],
      "source": [
        "def reconstruct_path(node):  #AJUSTAR FUNCIONES PARA ADEMAS DE LAS POSICIONES, MOSTRAR LAS ACCIONES TOMADAS\n",
        "    path = []\n",
        "    while node:\n",
        "        path.append(node.position)\n",
        "        node = node.parent\n",
        "    path.reverse()\n",
        "    return path\n"
      ]
    },
    {
      "cell_type": "code",
      "execution_count": null,
      "metadata": {
        "id": "goDWZANwaRuK"
      },
      "outputs": [],
      "source": [
        "maze = [\n",
        "    [\"#\", \"#\", \"#\", \"#\", \"#\", \"#\", \"#\",\"#\"],\n",
        "    [\"#\", \"S\", \"#\", \" \", \"#\", \" \", \"E\",\"#\"],\n",
        "    [\"#\", \" \", \" \", \" \", \"#\", \" \", \" \",\"#\"],\n",
        "    [\"#\", \" \", \"#\", \" \", \" \", \" \", \"#\",\"#\"],\n",
        "    [\"#\", \"#\", \"#\", \"#\", \"#\", \"#\", \"#\",\"#\"],\n",
        "    [\"#\", \"#\", \"#\", \"#\", \"#\", \"#\", \"#\",\"#\"]\n",
        "]\n",
        "path = find_exit(maze)\n",
        "print(\"Path to exit:\", path)"
      ]
    }
  ],
  "metadata": {
    "colab": {
      "provenance": []
    },
    "kernelspec": {
      "display_name": "Python 3",
      "name": "python3"
    },
    "language_info": {
      "name": "python"
    }
  },
  "nbformat": 4,
  "nbformat_minor": 0
}
